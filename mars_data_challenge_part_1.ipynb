{
 "cells": [
  {
   "cell_type": "code",
   "execution_count": 1,
   "id": "54362985",
   "metadata": {},
   "outputs": [
    {
     "name": "stderr",
     "output_type": "stream",
     "text": [
      "[WDM] - Downloading: 100%|████████████████████████████████████████████████████████| 6.46M/6.46M [00:00<00:00, 8.98MB/s]\n"
     ]
    },
    {
     "data": {
      "text/plain": [
       "True"
      ]
     },
     "execution_count": 1,
     "metadata": {},
     "output_type": "execute_result"
    }
   ],
   "source": [
    "# Import Splinter and BeautifulSoup\n",
    "from splinter import Browser\n",
    "from bs4 import BeautifulSoup as soup\n",
    "from webdriver_manager.chrome import ChromeDriverManager\n",
    "\n",
    "executable_path = {'executable_path': ChromeDriverManager().install()}\n",
    "browser = Browser('chrome', **executable_path, headless=False)\n",
    "\n",
    "# Visit the Mars NASA news site\n",
    "url = 'https://redplanetscience.com'\n",
    "browser.visit(url)\n",
    "# Optional delay for loading the page\n",
    "browser.is_element_present_by_css('div.list_text', wait_time=1)"
   ]
  },
  {
   "cell_type": "code",
   "execution_count": 7,
   "id": "c6a0219f",
   "metadata": {},
   "outputs": [],
   "source": [
    "html = browser.html\n",
    "news_soup = soup(html, 'html.parser')\n",
    "#slide_elem = news_soup.select('div.list_text')"
   ]
  },
  {
   "cell_type": "code",
   "execution_count": 9,
   "id": "eb5157d8",
   "metadata": {},
   "outputs": [
    {
     "name": "stdout",
     "output_type": "stream",
     "text": [
      "AI Is Helping Scientists Discover Fresh Craters on Mars\n",
      "Nine Finalists Chosen in NASA's Mars 2020 Rover Naming Contest\n",
      "Mars InSight Lander to Push on Top of the 'Mole'\n",
      "NASA Perseverance Mars Rover Scientists Train in the Nevada Desert\n",
      "NASA Moves Forward With Campaign to Return Mars Samples to Earth\n",
      "NASA Readies Perseverance Mars Rover's Earthly Twin \n",
      "Mars 2020 Unwrapped and Ready for More Testing\n",
      "NASA Invites Students to Name Mars 2020 Rover\n",
      "The MarCO Mission Comes to an End\n",
      "NASA to Hold Mars 2020 Perseverance Rover Launch Briefing\n",
      "NASA's Curiosity Rover Finds an Ancient Oasis on Mars\n",
      "NASA's New Mars Rover Will Use X-Rays to Hunt Fossils\n",
      "NASA's Perseverance Rover Will Look at Mars Through These 'Eyes'\n",
      "A New Video Captures the Science of NASA's Perseverance Mars Rover\n",
      "How NASA's Perseverance Mars Team Adjusted to Work in the Time of Coronavirus \n"
     ]
    }
   ],
   "source": [
    "titles = news_soup.find_all('div', class_='content_title')\n",
    "for title in titles:\n",
    "    print(title.text)"
   ]
  },
  {
   "cell_type": "code",
   "execution_count": 10,
   "id": "ad319ddf",
   "metadata": {},
   "outputs": [
    {
     "name": "stdout",
     "output_type": "stream",
     "text": [
      "It's the first time machine learning has been used to find previously unknown craters on the Red Planet.\n",
      "Nine finalists have been chosen in the essay contest for K-12 students across U.S. to name NASA's next Mars rover. Now you can help by voting for your favorite. \n",
      "Engineers have a plan for pushing down on the heat probe, which has been stuck at the Martian surface for a year.\n",
      "Team members searched for signs of ancient microscopic life there, just as NASA's latest rover will on the Red Planet next year.\n",
      "During this next phase, the program will mature critical technologies and make critical design decisions as well as assess industry partnerships.\n",
      "Did you know NASA's next Mars rover has a nearly identical sibling on Earth for testing? Even better, it's about to roll for the first time through a replica Martian landscape.\n",
      "In time-lapse video, bunny-suited engineers remove the inner layer of protective foil on NASA's Mars 2020 rover after it was relocated for testing.\n",
      "Through Nov. 1, K-12 students in the U.S. are encouraged to enter an essay contest to name NASA's next Mars rover.\n",
      "The pair of briefcase-sized satellites made history when they sailed past Mars in 2019.\n",
      "Learn more about the agency's next Red Planet mission during a live event on June 17.\n",
      "New evidence suggests salty, shallow ponds once dotted a Martian crater — a sign of the planet's drying climate.\n",
      "PIXL, an instrument on the end of the Perseverance rover's arm, will search for chemical fingerprints left by ancient microbes.\n",
      "A pair of zoomable cameras will help scientists and rover drivers with high-resolution color images.\n",
      "With a targeted launch date of July 30, the next robotic scientist NASA is sending to the to the Red Planet has big ambitions.\n",
      "Like much of the rest of the world, the Mars rover team is pushing forward with its mission-critical work while putting the health and safety of their colleagues and community first.\n"
     ]
    }
   ],
   "source": [
    "# Use the parent element to find the paragraph text\n",
    "previews = news_soup.find_all('div', class_='article_teaser_body')\n",
    "for preview in previews:\n",
    "    print(preview.text)"
   ]
  },
  {
   "cell_type": "code",
   "execution_count": 20,
   "id": "ac8abe0f",
   "metadata": {},
   "outputs": [],
   "source": [
    "browser.quit()"
   ]
  },
  {
   "cell_type": "code",
   "execution_count": 13,
   "id": "2f1f2d30",
   "metadata": {},
   "outputs": [
    {
     "name": "stdout",
     "output_type": "stream",
     "text": [
      "['AI Is Helping Scientists Discover Fresh Craters on Mars', \"Nine Finalists Chosen in NASA's Mars 2020 Rover Naming Contest\", \"Mars InSight Lander to Push on Top of the 'Mole'\", 'NASA Perseverance Mars Rover Scientists Train in the Nevada Desert', 'NASA Moves Forward With Campaign to Return Mars Samples to Earth', \"NASA Readies Perseverance Mars Rover's Earthly Twin \", 'Mars 2020 Unwrapped and Ready for More Testing', 'NASA Invites Students to Name Mars 2020 Rover', 'The MarCO Mission Comes to an End', 'NASA to Hold Mars 2020 Perseverance Rover Launch Briefing', \"NASA's Curiosity Rover Finds an Ancient Oasis on Mars\", \"NASA's New Mars Rover Will Use X-Rays to Hunt Fossils\", \"NASA's Perseverance Rover Will Look at Mars Through These 'Eyes'\", \"A New Video Captures the Science of NASA's Perseverance Mars Rover\", \"How NASA's Perseverance Mars Team Adjusted to Work in the Time of Coronavirus \"]\n"
     ]
    }
   ],
   "source": [
    "title_list=[]\n",
    "for title in titles:\n",
    "    title_list.append(title.text)\n",
    "    \n",
    "print(title_list)"
   ]
  },
  {
   "cell_type": "code",
   "execution_count": 14,
   "id": "cb818ae5",
   "metadata": {},
   "outputs": [
    {
     "name": "stdout",
     "output_type": "stream",
     "text": [
      "[\"It's the first time machine learning has been used to find previously unknown craters on the Red Planet.\", \"Nine finalists have been chosen in the essay contest for K-12 students across U.S. to name NASA's next Mars rover. Now you can help by voting for your favorite. \", 'Engineers have a plan for pushing down on the heat probe, which has been stuck at the Martian surface for a year.', \"Team members searched for signs of ancient microscopic life there, just as NASA's latest rover will on the Red Planet next year.\", 'During this next phase, the program will mature critical technologies and make critical design decisions as well as assess industry partnerships.', \"Did you know NASA's next Mars rover has a nearly identical sibling on Earth for testing? Even better, it's about to roll for the first time through a replica Martian landscape.\", \"In time-lapse video, bunny-suited engineers remove the inner layer of protective foil on NASA's Mars 2020 rover after it was relocated for testing.\", \"Through Nov. 1, K-12 students in the U.S. are encouraged to enter an essay contest to name NASA's next Mars rover.\", 'The pair of briefcase-sized satellites made history when they sailed past Mars in 2019.', \"Learn more about the agency's next Red Planet mission during a live event on June 17.\", \"New evidence suggests salty, shallow ponds once dotted a Martian crater — a sign of the planet's drying climate.\", \"PIXL, an instrument on the end of the Perseverance rover's arm, will search for chemical fingerprints left by ancient microbes.\", 'A pair of zoomable cameras will help scientists and rover drivers with high-resolution color images.', 'With a targeted launch date of July 30, the next robotic scientist NASA is sending to the to the Red Planet has big ambitions.', 'Like much of the rest of the world, the Mars rover team is pushing forward with its mission-critical work while putting the health and safety of their colleagues and community first.']\n"
     ]
    }
   ],
   "source": [
    "preview_list=[]\n",
    "for preview in previews:\n",
    "    preview_list.append(preview.text)\n",
    "    \n",
    "print(preview_list)"
   ]
  },
  {
   "cell_type": "code",
   "execution_count": 19,
   "id": "efdc9250",
   "metadata": {},
   "outputs": [
    {
     "name": "stdout",
     "output_type": "stream",
     "text": [
      "[{'title': 'AI Is Helping Scientists Discover Fresh Craters on Mars', 'preview': \"It's the first time machine learning has been used to find previously unknown craters on the Red Planet.\"}, {'title': \"Nine Finalists Chosen in NASA's Mars 2020 Rover Naming Contest\", 'preview': \"Nine finalists have been chosen in the essay contest for K-12 students across U.S. to name NASA's next Mars rover. Now you can help by voting for your favorite. \"}, {'title': \"Mars InSight Lander to Push on Top of the 'Mole'\", 'preview': 'Engineers have a plan for pushing down on the heat probe, which has been stuck at the Martian surface for a year.'}, {'title': 'NASA Perseverance Mars Rover Scientists Train in the Nevada Desert', 'preview': \"Team members searched for signs of ancient microscopic life there, just as NASA's latest rover will on the Red Planet next year.\"}, {'title': 'NASA Moves Forward With Campaign to Return Mars Samples to Earth', 'preview': 'During this next phase, the program will mature critical technologies and make critical design decisions as well as assess industry partnerships.'}, {'title': \"NASA Readies Perseverance Mars Rover's Earthly Twin \", 'preview': \"Did you know NASA's next Mars rover has a nearly identical sibling on Earth for testing? Even better, it's about to roll for the first time through a replica Martian landscape.\"}, {'title': 'Mars 2020 Unwrapped and Ready for More Testing', 'preview': \"In time-lapse video, bunny-suited engineers remove the inner layer of protective foil on NASA's Mars 2020 rover after it was relocated for testing.\"}, {'title': 'NASA Invites Students to Name Mars 2020 Rover', 'preview': \"Through Nov. 1, K-12 students in the U.S. are encouraged to enter an essay contest to name NASA's next Mars rover.\"}, {'title': 'The MarCO Mission Comes to an End', 'preview': 'The pair of briefcase-sized satellites made history when they sailed past Mars in 2019.'}, {'title': 'NASA to Hold Mars 2020 Perseverance Rover Launch Briefing', 'preview': \"Learn more about the agency's next Red Planet mission during a live event on June 17.\"}, {'title': \"NASA's Curiosity Rover Finds an Ancient Oasis on Mars\", 'preview': \"New evidence suggests salty, shallow ponds once dotted a Martian crater — a sign of the planet's drying climate.\"}, {'title': \"NASA's New Mars Rover Will Use X-Rays to Hunt Fossils\", 'preview': \"PIXL, an instrument on the end of the Perseverance rover's arm, will search for chemical fingerprints left by ancient microbes.\"}, {'title': \"NASA's Perseverance Rover Will Look at Mars Through These 'Eyes'\", 'preview': 'A pair of zoomable cameras will help scientists and rover drivers with high-resolution color images.'}, {'title': \"A New Video Captures the Science of NASA's Perseverance Mars Rover\", 'preview': 'With a targeted launch date of July 30, the next robotic scientist NASA is sending to the to the Red Planet has big ambitions.'}, {'title': \"How NASA's Perseverance Mars Team Adjusted to Work in the Time of Coronavirus \", 'preview': 'Like much of the rest of the world, the Mars rover team is pushing forward with its mission-critical work while putting the health and safety of their colleagues and community first.'}]\n"
     ]
    }
   ],
   "source": [
    "news_list=[]\n",
    "\n",
    "for i in range(len(title_list)):\n",
    "    news_list.append({\n",
    "    \"title\": title_list[i],\n",
    "    \"preview\": preview_list[i]})\n",
    "\n",
    "print(news_list)"
   ]
  },
  {
   "cell_type": "code",
   "execution_count": null,
   "id": "cc71670d",
   "metadata": {},
   "outputs": [],
   "source": []
  }
 ],
 "metadata": {
  "kernelspec": {
   "display_name": "Python 3 (ipykernel)",
   "language": "python",
   "name": "python3"
  },
  "language_info": {
   "codemirror_mode": {
    "name": "ipython",
    "version": 3
   },
   "file_extension": ".py",
   "mimetype": "text/x-python",
   "name": "python",
   "nbconvert_exporter": "python",
   "pygments_lexer": "ipython3",
   "version": "3.7.13"
  }
 },
 "nbformat": 4,
 "nbformat_minor": 5
}
